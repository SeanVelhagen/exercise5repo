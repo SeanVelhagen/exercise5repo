{
 "cells": [
  {
   "cell_type": "code",
   "execution_count": 1,
   "metadata": {},
   "outputs": [],
   "source": [
    "import numpy as np\n",
    "from bs4 import BeautifulSoup as bs\n",
    "import requests\n",
    "from PIL import Image\n",
    "import urllib"
   ]
  },
  {
   "cell_type": "code",
   "execution_count": 2,
   "metadata": {},
   "outputs": [],
   "source": [
    "def get_website_images(site, save_dir):\n",
    "    images = []\n",
    "    image_urls = []\n",
    "    i = 1\n",
    "    page = requests.get(site)\n",
    "    print('\\nPage status: ' + str(page.status_code) + '\\n')\n",
    "    soup = bs(page.text, 'html.parser')\n",
    "    for img in soup.findAll('img'):\n",
    "        print('Getting image ' + str(i) + '...')\n",
    "        cur_img = img.get('src')\n",
    "        if cur_img[:1] == '/':\n",
    "            cur_img = 'https:' + cur_img\n",
    "        extracted_image = Image.open(urllib.request.urlopen(cur_img))\n",
    "        image_urls.append(cur_img)\n",
    "        images.append(extracted_image)\n",
    "        extracted_image.save(save_dir + '/extracted_image_' + str(i) + '.png')\n",
    "        i += 1\n",
    "    print('')\n",
    "    j = 1\n",
    "    for url in image_urls:\n",
    "        print('Image ' + str(j) + ' URL: ' + url)\n",
    "        j += 1\n",
    "    print('\\nDone! (get_website_images)')"
   ]
  },
  {
   "cell_type": "code",
   "execution_count": 3,
   "metadata": {},
   "outputs": [
    {
     "name": "stdout",
     "output_type": "stream",
     "text": [
      "\n",
      "Page status: 200\n",
      "\n",
      "Getting image 1...\n",
      "Getting image 2...\n",
      "Getting image 3...\n",
      "Getting image 4...\n",
      "Getting image 5...\n",
      "Getting image 6...\n",
      "Getting image 7...\n",
      "Getting image 8...\n",
      "Getting image 9...\n",
      "Getting image 10...\n",
      "Getting image 11...\n",
      "Getting image 12...\n",
      "Getting image 13...\n",
      "Getting image 14...\n",
      "Getting image 15...\n",
      "\n",
      "Image 1 URL: https://cdn.cnn.com/cnn/.e1mo/img/4.0/logos/menu_entertainment.png\n",
      "Image 2 URL: https://cdn.cnn.com/cnn/.e1mo/img/4.0/logos/menu_travel.png\n",
      "Image 3 URL: https://cdn.cnn.com/cnn/.e1mo/img/4.0/logos/menu_style_new.png\n",
      "Image 4 URL: https://cdn.cnn.com/cnn/.e1mo/img/4.0/logos/menu_health.png\n",
      "Image 5 URL: https://cdn.cnn.com/cnn/.e1mo/img/4.0/vr/vr_new_asset.png\n",
      "Image 6 URL: https://cdn.cnn.com/cnn/.e1mo/img/4.0/logos/logo_cnn_nav_bottom.png\n",
      "Image 7 URL: https://cdn.cnn.com/cnn/.e1mo/img/4.0/logos/logo_cnn_nav_bottom.png\n",
      "Image 8 URL: https://cdn.cnn.com/cnn/.e1mo/img/4.0/logos/logo_cnn_espaniol.png\n",
      "Image 9 URL: https://cdn.cnn.com/cnn/.e1mo/img/4.0/logos/logo_cnn_arabic.png\n",
      "Image 10 URL: https://cdn.cnn.com/cnn/.e1mo/img/4.0/logos/menu_entertainment.png\n",
      "Image 11 URL: https://cdn.cnn.com/cnn/.e1mo/img/4.0/logos/menu_travel.png\n",
      "Image 12 URL: https://cdn.cnn.com/cnn/.e1mo/img/4.0/logos/menu_style_new.png\n",
      "Image 13 URL: https://cdn.cnn.com/cnn/.e1mo/img/4.0/logos/menu_health.png\n",
      "Image 14 URL: https://cdn.cnn.com/cnn/.e1mo/img/4.0/vr/vr_new_asset.png\n",
      "Image 15 URL: https://pixel.quantserve.com/pixel/p-D1yc5zQgjmqr5.gif?labels=noscript%3ANo%20Labels%20Set\n",
      "\n",
      "Done! (get_website_images)\n"
     ]
    }
   ],
   "source": [
    "get_website_images('https://edition.cnn.com/', './extracted_images')"
   ]
  },
  {
   "cell_type": "code",
   "execution_count": null,
   "metadata": {},
   "outputs": [],
   "source": []
  }
 ],
 "metadata": {
  "kernelspec": {
   "display_name": "Python 3",
   "language": "python",
   "name": "python3"
  },
  "language_info": {
   "codemirror_mode": {
    "name": "ipython",
    "version": 3
   },
   "file_extension": ".py",
   "mimetype": "text/x-python",
   "name": "python",
   "nbconvert_exporter": "python",
   "pygments_lexer": "ipython3",
   "version": "3.7.3"
  }
 },
 "nbformat": 4,
 "nbformat_minor": 2
}
